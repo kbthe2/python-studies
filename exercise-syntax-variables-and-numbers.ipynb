{
 "cells": [
  {
   "cell_type": "markdown",
   "id": "86d99ca3",
   "metadata": {
    "papermill": {
     "duration": 0.008256,
     "end_time": "2023-04-25T21:09:12.227396",
     "exception": false,
     "start_time": "2023-04-25T21:09:12.219140",
     "status": "completed"
    },
    "tags": []
   },
   "source": [
    "**This notebook is an exercise in the [Python](https://www.kaggle.com/learn/python) course.  You can reference the tutorial at [this link](https://www.kaggle.com/colinmorris/hello-python).**\n",
    "\n",
    "---\n"
   ]
  },
  {
   "cell_type": "markdown",
   "id": "c6a56b88",
   "metadata": {
    "papermill": {
     "duration": 0.006507,
     "end_time": "2023-04-25T21:09:12.240811",
     "exception": false,
     "start_time": "2023-04-25T21:09:12.234304",
     "status": "completed"
    },
    "tags": []
   },
   "source": [
    "Welcome to your first set of Python coding problems.  If this is your first time using Kaggle Notebooks, welcome! \n",
    "\n",
    "Notebooks are composed of blocks (called \"cells\") of text and code. Each of these is editable, though you'll mainly be editing the code cells to answer some questions.\n",
    "\n",
    "To get started, try running the code cell below (by pressing the ► button, or clicking on the cell and pressing ctrl+enter on your keyboard)."
   ]
  },
  {
   "cell_type": "code",
   "execution_count": 1,
   "id": "9e8c6706",
   "metadata": {
    "execution": {
     "iopub.execute_input": "2023-04-25T21:09:12.256397Z",
     "iopub.status.busy": "2023-04-25T21:09:12.255915Z",
     "iopub.status.idle": "2023-04-25T21:09:12.269531Z",
     "shell.execute_reply": "2023-04-25T21:09:12.267728Z"
    },
    "papermill": {
     "duration": 0.024624,
     "end_time": "2023-04-25T21:09:12.272194",
     "exception": false,
     "start_time": "2023-04-25T21:09:12.247570",
     "status": "completed"
    },
    "tags": []
   },
   "outputs": [
    {
     "name": "stdout",
     "output_type": "stream",
     "text": [
      "You've successfully run some Python code\n",
      "Congratulations!\n"
     ]
    }
   ],
   "source": [
    "print(\"You've successfully run some Python code\")\n",
    "print(\"Congratulations!\")"
   ]
  },
  {
   "cell_type": "markdown",
   "id": "ba4938d1",
   "metadata": {
    "papermill": {
     "duration": 0.007362,
     "end_time": "2023-04-25T21:09:12.286612",
     "exception": false,
     "start_time": "2023-04-25T21:09:12.279250",
     "status": "completed"
    },
    "tags": []
   },
   "source": [
    "Try adding another line of code in the cell above and re-running it. \n",
    "\n",
    "Now let's get a little fancier:  Add a new code cell by clicking on an existing code cell, hitting the escape key, and then hitting the `a` or `b` key.  The `a` key will add a cell above the current cell, and `b` adds a cell below.\n",
    "\n",
    "Great! Now you know how to use Notebooks.\n",
    "\n",
    "Each hands-on exercise starts by setting up our feedback and code checking mechanism. Run the code cell below to do that. Then you'll be ready to move on to question 0."
   ]
  },
  {
   "cell_type": "code",
   "execution_count": 2,
   "id": "d809ffa4",
   "metadata": {
    "_kg_hide-input": true,
    "_kg_hide-output": true,
    "execution": {
     "iopub.execute_input": "2023-04-25T21:09:12.302770Z",
     "iopub.status.busy": "2023-04-25T21:09:12.302288Z",
     "iopub.status.idle": "2023-04-25T21:09:12.354203Z",
     "shell.execute_reply": "2023-04-25T21:09:12.352584Z"
    },
    "papermill": {
     "duration": 0.063319,
     "end_time": "2023-04-25T21:09:12.357045",
     "exception": false,
     "start_time": "2023-04-25T21:09:12.293726",
     "status": "completed"
    },
    "tags": []
   },
   "outputs": [
    {
     "name": "stdout",
     "output_type": "stream",
     "text": [
      "Setup complete! You're ready to start question 0.\n"
     ]
    }
   ],
   "source": [
    "from learntools.core import binder; binder.bind(globals())\n",
    "from learntools.python.ex1 import *\n",
    "print(\"Setup complete! You're ready to start question 0.\")"
   ]
  },
  {
   "cell_type": "markdown",
   "id": "ee5fe2a8",
   "metadata": {
    "papermill": {
     "duration": 0.006642,
     "end_time": "2023-04-25T21:09:12.370695",
     "exception": false,
     "start_time": "2023-04-25T21:09:12.364053",
     "status": "completed"
    },
    "tags": []
   },
   "source": [
    "# 0.\n",
    "\n",
    "*This is a silly question intended as an introduction to the format we use for hands-on exercises throughout all Kaggle courses.*\n",
    "\n",
    "**What is your favorite color? **\n",
    "\n",
    "To complete this question, create a variable called `color` in the cell below with an appropriate value. The function call `q0.check()` (which we've already provided in the cell below) will check your answer."
   ]
  },
  {
   "cell_type": "code",
   "execution_count": 3,
   "id": "96b24ac2",
   "metadata": {
    "execution": {
     "iopub.execute_input": "2023-04-25T21:09:12.386649Z",
     "iopub.status.busy": "2023-04-25T21:09:12.386165Z",
     "iopub.status.idle": "2023-04-25T21:09:12.399398Z",
     "shell.execute_reply": "2023-04-25T21:09:12.397496Z"
    },
    "papermill": {
     "duration": 0.025587,
     "end_time": "2023-04-25T21:09:12.403154",
     "exception": false,
     "start_time": "2023-04-25T21:09:12.377567",
     "status": "completed"
    },
    "tags": []
   },
   "outputs": [
    {
     "data": {
      "application/javascript": [
       "parent.postMessage({\"jupyterEvent\": \"custom.exercise_interaction\", \"data\": {\"outcomeType\": 1, \"valueTowardsCompletion\": 0.25, \"interactionType\": 1, \"questionType\": 2, \"questionId\": \"0_ExerciseFormatTutorial\", \"learnToolsVersion\": \"0.3.4\", \"failureMessage\": \"\", \"exceptionClass\": \"\", \"trace\": \"\"}}, \"*\")"
      ],
      "text/plain": [
       "<IPython.core.display.Javascript object>"
      ]
     },
     "metadata": {},
     "output_type": "display_data"
    },
    {
     "data": {
      "text/markdown": [
       "<span style=\"color:#33cc33\">Correct:</span> What?! You got it right without needing a hint or anything? Drats. Well hey, you should still continue to the next step to get some practice asking for a hint and checking solutions. (Even though you obviously don't need any help here.)"
      ],
      "text/plain": [
       "Correct: What?! You got it right without needing a hint or anything? Drats. Well hey, you should still continue to the next step to get some practice asking for a hint and checking solutions. (Even though you obviously don't need any help here.)"
      ]
     },
     "metadata": {},
     "output_type": "display_data"
    }
   ],
   "source": [
    "# create a variable called color with an appropriate value on the line below\n",
    "# (Remember, strings in Python must be enclosed in 'single' or \"double\" quotes)\n",
    "color = \"blue\"\n",
    "\n",
    "# Check your answer\n",
    "q0.check()"
   ]
  },
  {
   "cell_type": "markdown",
   "id": "6e06a20a",
   "metadata": {
    "papermill": {
     "duration": 0.008783,
     "end_time": "2023-04-25T21:09:12.420964",
     "exception": false,
     "start_time": "2023-04-25T21:09:12.412181",
     "status": "completed"
    },
    "tags": []
   },
   "source": [
    "Didn't get the right answer? How do you not even know your own favorite color?!\n",
    "\n",
    "Delete the `#` in the line below to make one of the lines run. You can choose between getting a hint or the full answer by choosing which line to remove the `#` from. \n",
    "\n",
    "Removing the `#` is called uncommenting, because it changes that line from a \"comment\" which Python doesn't run to code, which Python does run."
   ]
  },
  {
   "cell_type": "code",
   "execution_count": 4,
   "id": "5bf5a853",
   "metadata": {
    "execution": {
     "iopub.execute_input": "2023-04-25T21:09:12.437700Z",
     "iopub.status.busy": "2023-04-25T21:09:12.437289Z",
     "iopub.status.idle": "2023-04-25T21:09:12.446749Z",
     "shell.execute_reply": "2023-04-25T21:09:12.445619Z"
    },
    "papermill": {
     "duration": 0.021019,
     "end_time": "2023-04-25T21:09:12.449461",
     "exception": false,
     "start_time": "2023-04-25T21:09:12.428442",
     "status": "completed"
    },
    "tags": []
   },
   "outputs": [
    {
     "data": {
      "application/javascript": [
       "parent.postMessage({\"jupyterEvent\": \"custom.exercise_interaction\", \"data\": {\"interactionType\": 2, \"questionType\": 2, \"questionId\": \"0_ExerciseFormatTutorial\", \"learnToolsVersion\": \"0.3.4\", \"valueTowardsCompletion\": 0.0, \"failureMessage\": \"\", \"exceptionClass\": \"\", \"trace\": \"\", \"outcomeType\": 4}}, \"*\")"
      ],
      "text/plain": [
       "<IPython.core.display.Javascript object>"
      ]
     },
     "metadata": {},
     "output_type": "display_data"
    },
    {
     "data": {
      "text/markdown": [
       "<span style=\"color:#3366cc\">Hint:</span> Your favorite color rhymes with *glue*."
      ],
      "text/plain": [
       "Hint: Your favorite color rhymes with *glue*."
      ]
     },
     "metadata": {},
     "output_type": "display_data"
    }
   ],
   "source": [
    "q0.hint()\n",
    "#q0.solution()"
   ]
  },
  {
   "cell_type": "markdown",
   "id": "9583134d",
   "metadata": {
    "papermill": {
     "duration": 0.008387,
     "end_time": "2023-04-25T21:09:12.465252",
     "exception": false,
     "start_time": "2023-04-25T21:09:12.456865",
     "status": "completed"
    },
    "tags": []
   },
   "source": [
    "The upcoming questions work the same way. The only thing that will change are the question numbers. For the next question, you'll call `q1.check()`, `q1.hint()`, `q1.solution()`, for question 2, you'll call `q2.check()`, and so on."
   ]
  },
  {
   "cell_type": "markdown",
   "id": "408038cc",
   "metadata": {
    "papermill": {
     "duration": 0.007003,
     "end_time": "2023-04-25T21:09:12.479771",
     "exception": false,
     "start_time": "2023-04-25T21:09:12.472768",
     "status": "completed"
    },
    "tags": []
   },
   "source": [
    "<hr/>\n",
    "\n",
    "# 1.\n",
    "\n",
    "Complete the code below. In case it's helpful, here is the table of available arithmetic operations:\n",
    "\n",
    "\n",
    "\n",
    "| Operator     | Name           | Description                                            |\n",
    "|--------------|----------------|--------------------------------------------------------|\n",
    "| ``a + b``    | Addition       | Sum of ``a`` and ``b``                                 |\n",
    "| ``a - b``    | Subtraction    | Difference of ``a`` and ``b``                          |\n",
    "| ``a * b``    | Multiplication | Product of ``a`` and ``b``                             |\n",
    "| ``a / b``    | True division  | Quotient of ``a`` and ``b``                            |\n",
    "| ``a // b``   | Floor division | Quotient of ``a`` and ``b``, removing fractional parts |\n",
    "| ``a % b``    | Modulus        | Integer remainder after division of ``a`` by ``b``     |\n",
    "| ``a ** b``   | Exponentiation | ``a`` raised to the power of ``b``                     |\n",
    "| ``-a``       | Negation       | The negative of ``a``                                  |\n",
    "\n",
    "<span style=\"display:none\"></span>\n"
   ]
  },
  {
   "cell_type": "code",
   "execution_count": 5,
   "id": "f9fee90b",
   "metadata": {
    "execution": {
     "iopub.execute_input": "2023-04-25T21:09:12.496648Z",
     "iopub.status.busy": "2023-04-25T21:09:12.496215Z",
     "iopub.status.idle": "2023-04-25T21:09:12.505729Z",
     "shell.execute_reply": "2023-04-25T21:09:12.504693Z"
    },
    "papermill": {
     "duration": 0.021211,
     "end_time": "2023-04-25T21:09:12.508425",
     "exception": false,
     "start_time": "2023-04-25T21:09:12.487214",
     "status": "completed"
    },
    "tags": []
   },
   "outputs": [
    {
     "data": {
      "application/javascript": [
       "parent.postMessage({\"jupyterEvent\": \"custom.exercise_interaction\", \"data\": {\"outcomeType\": 1, \"valueTowardsCompletion\": 0.25, \"interactionType\": 1, \"questionType\": 1, \"questionId\": \"1_CircleArea\", \"learnToolsVersion\": \"0.3.4\", \"failureMessage\": \"\", \"exceptionClass\": \"\", \"trace\": \"\"}}, \"*\")"
      ],
      "text/plain": [
       "<IPython.core.display.Javascript object>"
      ]
     },
     "metadata": {},
     "output_type": "display_data"
    },
    {
     "data": {
      "text/markdown": [
       "<span style=\"color:#33cc33\">Correct</span>"
      ],
      "text/plain": [
       "Correct"
      ]
     },
     "metadata": {},
     "output_type": "display_data"
    }
   ],
   "source": [
    "pi = 3.14159 # approximate\n",
    "diameter = 3\n",
    "\n",
    "# Create a variable called 'radius' equal to half the diameter\n",
    "radius = 3 / 2\n",
    "\n",
    "# Create a variable called 'area', using the formula for the area of a circle: pi times the radius squared\n",
    "area = pi * radius ** 2\n",
    "\n",
    "# Check your answer\n",
    "q1.check()"
   ]
  },
  {
   "cell_type": "code",
   "execution_count": 6,
   "id": "d90b3803",
   "metadata": {
    "execution": {
     "iopub.execute_input": "2023-04-25T21:09:12.526272Z",
     "iopub.status.busy": "2023-04-25T21:09:12.525795Z",
     "iopub.status.idle": "2023-04-25T21:09:12.531284Z",
     "shell.execute_reply": "2023-04-25T21:09:12.529915Z"
    },
    "papermill": {
     "duration": 0.017246,
     "end_time": "2023-04-25T21:09:12.533760",
     "exception": false,
     "start_time": "2023-04-25T21:09:12.516514",
     "status": "completed"
    },
    "tags": []
   },
   "outputs": [],
   "source": [
    "# Uncomment and run the lines below if you need help.\n",
    "#q1.hint()\n",
    "#q1.solution()"
   ]
  },
  {
   "cell_type": "markdown",
   "id": "9103f3b9",
   "metadata": {
    "papermill": {
     "duration": 0.007804,
     "end_time": "2023-04-25T21:09:12.550465",
     "exception": false,
     "start_time": "2023-04-25T21:09:12.542661",
     "status": "completed"
    },
    "tags": []
   },
   "source": [
    "<hr/>\n",
    "\n",
    "# 2.\n",
    "\n",
    "Add code to the following cell to swap variables `a` and `b` (so that `a` refers to the object previously referred to by `b` and vice versa)."
   ]
  },
  {
   "cell_type": "code",
   "execution_count": 7,
   "id": "015c4197",
   "metadata": {
    "execution": {
     "iopub.execute_input": "2023-04-25T21:09:12.568850Z",
     "iopub.status.busy": "2023-04-25T21:09:12.568077Z",
     "iopub.status.idle": "2023-04-25T21:09:12.579330Z",
     "shell.execute_reply": "2023-04-25T21:09:12.577942Z"
    },
    "papermill": {
     "duration": 0.023285,
     "end_time": "2023-04-25T21:09:12.581815",
     "exception": false,
     "start_time": "2023-04-25T21:09:12.558530",
     "status": "completed"
    },
    "tags": []
   },
   "outputs": [
    {
     "data": {
      "application/javascript": [
       "parent.postMessage({\"jupyterEvent\": \"custom.exercise_interaction\", \"data\": {\"outcomeType\": 1, \"valueTowardsCompletion\": 0.25, \"interactionType\": 1, \"questionType\": 2, \"questionId\": \"2_VariableSwap\", \"learnToolsVersion\": \"0.3.4\", \"failureMessage\": \"\", \"exceptionClass\": \"\", \"trace\": \"\"}}, \"*\")"
      ],
      "text/plain": [
       "<IPython.core.display.Javascript object>"
      ]
     },
     "metadata": {},
     "output_type": "display_data"
    },
    {
     "data": {
      "text/markdown": [
       "<span style=\"color:#33cc33\">Correct:</span> \n",
       "\n",
       "The most straightforward solution is to use a third variable to temporarily store one of the old values. e.g.:\n",
       "\n",
       "    tmp = a\n",
       "    a = b\n",
       "    b = tmp\n",
       "\n",
       "If you've read lots of Python code, you might have seen the following trick to swap two variables in one line:\n",
       "\n",
       "    a, b = b, a\n",
       "\n",
       "We'll demystify this bit of Python magic later when we talk about *tuples*."
      ],
      "text/plain": [
       "Correct: \n",
       "\n",
       "The most straightforward solution is to use a third variable to temporarily store one of the old values. e.g.:\n",
       "\n",
       "    tmp = a\n",
       "    a = b\n",
       "    b = tmp\n",
       "\n",
       "If you've read lots of Python code, you might have seen the following trick to swap two variables in one line:\n",
       "\n",
       "    a, b = b, a\n",
       "\n",
       "We'll demystify this bit of Python magic later when we talk about *tuples*."
      ]
     },
     "metadata": {},
     "output_type": "display_data"
    }
   ],
   "source": [
    "########### Setup code - don't touch this part ######################\n",
    "# If you're curious, these are examples of lists. We'll talk about \n",
    "# them in depth a few lessons from now. For now, just know that they're\n",
    "# yet another type of Python object, like int or float.\n",
    "a = [1, 2, 3]\n",
    "b = [3, 2, 1]\n",
    "a = b\n",
    "b= a\n",
    "q2.store_original_ids()\n",
    "######################################################################\n",
    "\n",
    "# Your code goes here. Swap the values to which a and b refer.\n",
    "# If you get stuck, you can always uncomment one or both of the lines in\n",
    "# the next cell for a hint, or to peek at the solution.\n",
    "\n",
    "######################################################################\n",
    "\n",
    "# Check your answer\n",
    "q2.check()"
   ]
  },
  {
   "cell_type": "code",
   "execution_count": 8,
   "id": "9fa1c0e0",
   "metadata": {
    "execution": {
     "iopub.execute_input": "2023-04-25T21:09:12.600334Z",
     "iopub.status.busy": "2023-04-25T21:09:12.599461Z",
     "iopub.status.idle": "2023-04-25T21:09:12.608584Z",
     "shell.execute_reply": "2023-04-25T21:09:12.607527Z"
    },
    "papermill": {
     "duration": 0.021147,
     "end_time": "2023-04-25T21:09:12.611026",
     "exception": false,
     "start_time": "2023-04-25T21:09:12.589879",
     "status": "completed"
    },
    "tags": []
   },
   "outputs": [
    {
     "data": {
      "application/javascript": [
       "parent.postMessage({\"jupyterEvent\": \"custom.exercise_interaction\", \"data\": {\"interactionType\": 2, \"questionType\": 2, \"questionId\": \"2_VariableSwap\", \"learnToolsVersion\": \"0.3.4\", \"valueTowardsCompletion\": 0.0, \"failureMessage\": \"\", \"exceptionClass\": \"\", \"trace\": \"\", \"outcomeType\": 4}}, \"*\")"
      ],
      "text/plain": [
       "<IPython.core.display.Javascript object>"
      ]
     },
     "metadata": {},
     "output_type": "display_data"
    },
    {
     "data": {
      "text/markdown": [
       "<span style=\"color:#3366cc\">Hint:</span> Try using a third variable."
      ],
      "text/plain": [
       "Hint: Try using a third variable."
      ]
     },
     "metadata": {},
     "output_type": "display_data"
    }
   ],
   "source": [
    "q2.hint()"
   ]
  },
  {
   "cell_type": "code",
   "execution_count": 9,
   "id": "df1b1cc9",
   "metadata": {
    "execution": {
     "iopub.execute_input": "2023-04-25T21:09:12.632510Z",
     "iopub.status.busy": "2023-04-25T21:09:12.630932Z",
     "iopub.status.idle": "2023-04-25T21:09:12.636940Z",
     "shell.execute_reply": "2023-04-25T21:09:12.635977Z"
    },
    "papermill": {
     "duration": 0.018638,
     "end_time": "2023-04-25T21:09:12.639601",
     "exception": false,
     "start_time": "2023-04-25T21:09:12.620963",
     "status": "completed"
    },
    "tags": []
   },
   "outputs": [],
   "source": [
    "#q2.solution()"
   ]
  },
  {
   "cell_type": "markdown",
   "id": "3ed3cf41",
   "metadata": {
    "papermill": {
     "duration": 0.00782,
     "end_time": "2023-04-25T21:09:12.655785",
     "exception": false,
     "start_time": "2023-04-25T21:09:12.647965",
     "status": "completed"
    },
    "tags": []
   },
   "source": [
    "<hr/>\n",
    "\n",
    "# 3a.\n",
    "\n",
    "Add parentheses to the following expression so that it evaluates to 1."
   ]
  },
  {
   "cell_type": "code",
   "execution_count": 10,
   "id": "457553c3",
   "metadata": {
    "execution": {
     "iopub.execute_input": "2023-04-25T21:09:12.675369Z",
     "iopub.status.busy": "2023-04-25T21:09:12.674112Z",
     "iopub.status.idle": "2023-04-25T21:09:12.683355Z",
     "shell.execute_reply": "2023-04-25T21:09:12.681954Z"
    },
    "papermill": {
     "duration": 0.021744,
     "end_time": "2023-04-25T21:09:12.686168",
     "exception": false,
     "start_time": "2023-04-25T21:09:12.664424",
     "status": "completed"
    },
    "tags": []
   },
   "outputs": [
    {
     "data": {
      "text/plain": [
       "1"
      ]
     },
     "execution_count": 10,
     "metadata": {},
     "output_type": "execute_result"
    }
   ],
   "source": [
    "(5 - 3) // 2"
   ]
  },
  {
   "cell_type": "code",
   "execution_count": 11,
   "id": "cb4cc453",
   "metadata": {
    "execution": {
     "iopub.execute_input": "2023-04-25T21:09:12.704979Z",
     "iopub.status.busy": "2023-04-25T21:09:12.704523Z",
     "iopub.status.idle": "2023-04-25T21:09:12.713787Z",
     "shell.execute_reply": "2023-04-25T21:09:12.712437Z"
    },
    "papermill": {
     "duration": 0.02188,
     "end_time": "2023-04-25T21:09:12.716496",
     "exception": false,
     "start_time": "2023-04-25T21:09:12.694616",
     "status": "completed"
    },
    "tags": []
   },
   "outputs": [
    {
     "data": {
      "application/javascript": [
       "parent.postMessage({\"jupyterEvent\": \"custom.exercise_interaction\", \"data\": {\"interactionType\": 2, \"questionType\": 4, \"questionId\": \"3.1_ArithmeticParensEasy\", \"learnToolsVersion\": \"0.3.4\", \"valueTowardsCompletion\": 0.0, \"failureMessage\": \"\", \"exceptionClass\": \"\", \"trace\": \"\", \"outcomeType\": 4}}, \"*\")"
      ],
      "text/plain": [
       "<IPython.core.display.Javascript object>"
      ]
     },
     "metadata": {},
     "output_type": "display_data"
    },
    {
     "data": {
      "text/markdown": [
       "<span style=\"color:#3366cc\">Hint:</span> Following its default \"BEDMAS\"-like rules for order of operations, Python will first divide 3 by 2, then subtract the result from 5. You need to add parentheses to force it to perform the subtraction first."
      ],
      "text/plain": [
       "Hint: Following its default \"BEDMAS\"-like rules for order of operations, Python will first divide 3 by 2, then subtract the result from 5. You need to add parentheses to force it to perform the subtraction first."
      ]
     },
     "metadata": {},
     "output_type": "display_data"
    }
   ],
   "source": [
    "q3.a.hint()"
   ]
  },
  {
   "cell_type": "code",
   "execution_count": 12,
   "id": "bc1fa2ff",
   "metadata": {
    "execution": {
     "iopub.execute_input": "2023-04-25T21:09:12.735886Z",
     "iopub.status.busy": "2023-04-25T21:09:12.735439Z",
     "iopub.status.idle": "2023-04-25T21:09:12.745773Z",
     "shell.execute_reply": "2023-04-25T21:09:12.744611Z"
    },
    "papermill": {
     "duration": 0.022953,
     "end_time": "2023-04-25T21:09:12.748166",
     "exception": false,
     "start_time": "2023-04-25T21:09:12.725213",
     "status": "completed"
    },
    "tags": []
   },
   "outputs": [
    {
     "data": {
      "application/javascript": [
       "parent.postMessage({\"jupyterEvent\": \"custom.exercise_interaction\", \"data\": {\"interactionType\": 3, \"questionType\": 4, \"questionId\": \"3.1_ArithmeticParensEasy\", \"learnToolsVersion\": \"0.3.4\", \"valueTowardsCompletion\": 0.0, \"failureMessage\": \"\", \"exceptionClass\": \"\", \"trace\": \"\", \"outcomeType\": 4}}, \"*\")"
      ],
      "text/plain": [
       "<IPython.core.display.Javascript object>"
      ]
     },
     "metadata": {},
     "output_type": "display_data"
    },
    {
     "data": {
      "text/markdown": [
       "<span style=\"color:#33cc99\">Solution:</span> \n",
       "```python\n",
       "(5 - 3) // 2\n",
       "```"
      ],
      "text/plain": [
       "Solution: \n",
       "```python\n",
       "(5 - 3) // 2\n",
       "```"
      ]
     },
     "metadata": {},
     "output_type": "display_data"
    }
   ],
   "source": [
    "# Check your answer (Run this code cell to receive credit!)\n",
    "q3.a.solution()"
   ]
  },
  {
   "cell_type": "markdown",
   "id": "2aead427",
   "metadata": {
    "papermill": {
     "duration": 0.008623,
     "end_time": "2023-04-25T21:09:12.765784",
     "exception": false,
     "start_time": "2023-04-25T21:09:12.757161",
     "status": "completed"
    },
    "tags": []
   },
   "source": [
    "# 3b.  <span title=\"A bit spicy\" style=\"color: darkgreen \">🌶️</span>\n",
    "\n",
    "<small>Questions, like this one, marked a spicy pepper are a bit harder.</small>\n",
    "\n",
    "Add parentheses to the following expression so that it evaluates to 0."
   ]
  },
  {
   "cell_type": "code",
   "execution_count": 13,
   "id": "b90d4ba6",
   "metadata": {
    "execution": {
     "iopub.execute_input": "2023-04-25T21:09:12.785716Z",
     "iopub.status.busy": "2023-04-25T21:09:12.785297Z",
     "iopub.status.idle": "2023-04-25T21:09:12.792889Z",
     "shell.execute_reply": "2023-04-25T21:09:12.791550Z"
    },
    "papermill": {
     "duration": 0.020631,
     "end_time": "2023-04-25T21:09:12.795327",
     "exception": false,
     "start_time": "2023-04-25T21:09:12.774696",
     "status": "completed"
    },
    "tags": []
   },
   "outputs": [
    {
     "data": {
      "text/plain": [
       "0"
      ]
     },
     "execution_count": 13,
     "metadata": {},
     "output_type": "execute_result"
    }
   ],
   "source": [
    "(8 - 3 * 2) - (1 + 1)"
   ]
  },
  {
   "cell_type": "code",
   "execution_count": 14,
   "id": "7f5d7cfc",
   "metadata": {
    "execution": {
     "iopub.execute_input": "2023-04-25T21:09:12.815173Z",
     "iopub.status.busy": "2023-04-25T21:09:12.814722Z",
     "iopub.status.idle": "2023-04-25T21:09:12.825579Z",
     "shell.execute_reply": "2023-04-25T21:09:12.824379Z"
    },
    "papermill": {
     "duration": 0.023879,
     "end_time": "2023-04-25T21:09:12.828136",
     "exception": false,
     "start_time": "2023-04-25T21:09:12.804257",
     "status": "completed"
    },
    "tags": []
   },
   "outputs": [
    {
     "data": {
      "application/javascript": [
       "parent.postMessage({\"jupyterEvent\": \"custom.exercise_interaction\", \"data\": {\"interactionType\": 2, \"questionType\": 4, \"questionId\": \"3.2_ArithmeticParensHard\", \"learnToolsVersion\": \"0.3.4\", \"valueTowardsCompletion\": 0.0, \"failureMessage\": \"\", \"exceptionClass\": \"\", \"trace\": \"\", \"outcomeType\": 4}}, \"*\")"
      ],
      "text/plain": [
       "<IPython.core.display.Javascript object>"
      ]
     },
     "metadata": {},
     "output_type": "display_data"
    },
    {
     "data": {
      "text/markdown": [
       "<span style=\"color:#3366cc\">Hint:</span> You may need to use several pairs of parentheses."
      ],
      "text/plain": [
       "Hint: You may need to use several pairs of parentheses."
      ]
     },
     "metadata": {},
     "output_type": "display_data"
    }
   ],
   "source": [
    "q3.b.hint()"
   ]
  },
  {
   "cell_type": "code",
   "execution_count": 15,
   "id": "ed18adfb",
   "metadata": {
    "execution": {
     "iopub.execute_input": "2023-04-25T21:09:12.849728Z",
     "iopub.status.busy": "2023-04-25T21:09:12.849303Z",
     "iopub.status.idle": "2023-04-25T21:09:12.859050Z",
     "shell.execute_reply": "2023-04-25T21:09:12.857623Z"
    },
    "papermill": {
     "duration": 0.024403,
     "end_time": "2023-04-25T21:09:12.861896",
     "exception": false,
     "start_time": "2023-04-25T21:09:12.837493",
     "status": "completed"
    },
    "tags": []
   },
   "outputs": [
    {
     "data": {
      "application/javascript": [
       "parent.postMessage({\"jupyterEvent\": \"custom.exercise_interaction\", \"data\": {\"interactionType\": 3, \"questionType\": 4, \"questionId\": \"3.2_ArithmeticParensHard\", \"learnToolsVersion\": \"0.3.4\", \"valueTowardsCompletion\": 0.0, \"failureMessage\": \"\", \"exceptionClass\": \"\", \"trace\": \"\", \"outcomeType\": 4}}, \"*\")"
      ],
      "text/plain": [
       "<IPython.core.display.Javascript object>"
      ]
     },
     "metadata": {},
     "output_type": "display_data"
    },
    {
     "data": {
      "text/markdown": [
       "<span style=\"color:#33cc99\">Solution:</span> `(8 - 3) * (2 - (1 + 1))` is one solution. There may be others."
      ],
      "text/plain": [
       "Solution: `(8 - 3) * (2 - (1 + 1))` is one solution. There may be others."
      ]
     },
     "metadata": {},
     "output_type": "display_data"
    }
   ],
   "source": [
    "# Check your answer (Run this code cell to receive credit!)\n",
    "q3.b.solution()"
   ]
  },
  {
   "cell_type": "markdown",
   "id": "99934fba",
   "metadata": {
    "papermill": {
     "duration": 0.009509,
     "end_time": "2023-04-25T21:09:12.880953",
     "exception": false,
     "start_time": "2023-04-25T21:09:12.871444",
     "status": "completed"
    },
    "tags": []
   },
   "source": [
    "<hr/>\n",
    "\n",
    "# 4. \n",
    "Alice, Bob and Carol have agreed to pool their Halloween candy and split it evenly among themselves.\n",
    "For the sake of their friendship, any candies left over will be smashed. For example, if they collectively\n",
    "bring home 91 candies, they'll take 30 each and smash 1.\n",
    "\n",
    "Write an arithmetic expression below to calculate how many candies they must smash for a given haul."
   ]
  },
  {
   "cell_type": "code",
   "execution_count": 16,
   "id": "04b0b3a3",
   "metadata": {
    "execution": {
     "iopub.execute_input": "2023-04-25T21:09:12.902007Z",
     "iopub.status.busy": "2023-04-25T21:09:12.901539Z",
     "iopub.status.idle": "2023-04-25T21:09:12.911610Z",
     "shell.execute_reply": "2023-04-25T21:09:12.910626Z"
    },
    "papermill": {
     "duration": 0.02374,
     "end_time": "2023-04-25T21:09:12.914285",
     "exception": false,
     "start_time": "2023-04-25T21:09:12.890545",
     "status": "completed"
    },
    "tags": []
   },
   "outputs": [
    {
     "data": {
      "application/javascript": [
       "parent.postMessage({\"jupyterEvent\": \"custom.exercise_interaction\", \"data\": {\"outcomeType\": 1, \"valueTowardsCompletion\": 0.25, \"interactionType\": 1, \"questionType\": 1, \"questionId\": \"4_CandySplitting\", \"learnToolsVersion\": \"0.3.4\", \"failureMessage\": \"\", \"exceptionClass\": \"\", \"trace\": \"\"}}, \"*\")"
      ],
      "text/plain": [
       "<IPython.core.display.Javascript object>"
      ]
     },
     "metadata": {},
     "output_type": "display_data"
    },
    {
     "data": {
      "text/markdown": [
       "<span style=\"color:#33cc33\">Correct</span>"
      ],
      "text/plain": [
       "Correct"
      ]
     },
     "metadata": {},
     "output_type": "display_data"
    }
   ],
   "source": [
    "# Variables representing the number of candies collected by alice, bob, and carol\n",
    "alice_candies = 121\n",
    "bob_candies = 77\n",
    "carol_candies = 109\n",
    "\n",
    "# Your code goes here! Replace the right-hand side of this assignment with an expression\n",
    "# involving alice_candies, bob_candies, and carol_candies\n",
    "to_smash = (alice_candies + bob_candies + carol_candies) % 3\n",
    "\n",
    "# Check your answer\n",
    "q4.check()"
   ]
  },
  {
   "cell_type": "code",
   "execution_count": 17,
   "id": "0d356485",
   "metadata": {
    "execution": {
     "iopub.execute_input": "2023-04-25T21:09:12.936446Z",
     "iopub.status.busy": "2023-04-25T21:09:12.935919Z",
     "iopub.status.idle": "2023-04-25T21:09:12.941480Z",
     "shell.execute_reply": "2023-04-25T21:09:12.940204Z"
    },
    "papermill": {
     "duration": 0.019693,
     "end_time": "2023-04-25T21:09:12.944194",
     "exception": false,
     "start_time": "2023-04-25T21:09:12.924501",
     "status": "completed"
    },
    "tags": []
   },
   "outputs": [],
   "source": [
    "#q4.hint()\n",
    "#q4.solution()"
   ]
  },
  {
   "cell_type": "markdown",
   "id": "b4a87a79",
   "metadata": {
    "papermill": {
     "duration": 0.009467,
     "end_time": "2023-04-25T21:09:12.963518",
     "exception": false,
     "start_time": "2023-04-25T21:09:12.954051",
     "status": "completed"
    },
    "tags": []
   },
   "source": [
    "# Keep Going\n",
    "\n",
    "Next up, you'll **[learn to write new functions and understand functions others write](https://www.kaggle.com/colinmorris/functions-and-getting-help)**. This will make you at least 10 times more productive as a Python programmer. "
   ]
  },
  {
   "cell_type": "markdown",
   "id": "66b74c9d",
   "metadata": {
    "papermill": {
     "duration": 0.009533,
     "end_time": "2023-04-25T21:09:12.982801",
     "exception": false,
     "start_time": "2023-04-25T21:09:12.973268",
     "status": "completed"
    },
    "tags": []
   },
   "source": [
    "---\n",
    "\n",
    "\n",
    "\n",
    "\n",
    "*Have questions or comments? Visit the [course discussion forum](https://www.kaggle.com/learn/python/discussion) to chat with other learners.*"
   ]
  }
 ],
 "metadata": {
  "kernelspec": {
   "display_name": "Python 3",
   "language": "python",
   "name": "python3"
  },
  "language_info": {
   "codemirror_mode": {
    "name": "ipython",
    "version": 3
   },
   "file_extension": ".py",
   "mimetype": "text/x-python",
   "name": "python",
   "nbconvert_exporter": "python",
   "pygments_lexer": "ipython3",
   "version": "3.7.12"
  },
  "papermill": {
   "default_parameters": {},
   "duration": 14.082027,
   "end_time": "2023-04-25T21:09:13.717992",
   "environment_variables": {},
   "exception": null,
   "input_path": "__notebook__.ipynb",
   "output_path": "__notebook__.ipynb",
   "parameters": {},
   "start_time": "2023-04-25T21:08:59.635965",
   "version": "2.4.0"
  }
 },
 "nbformat": 4,
 "nbformat_minor": 5
}
