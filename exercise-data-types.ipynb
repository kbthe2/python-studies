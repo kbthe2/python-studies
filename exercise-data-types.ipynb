{
 "cells": [
  {
   "cell_type": "markdown",
   "id": "c56082a8",
   "metadata": {
    "papermill": {
     "duration": 0.007984,
     "end_time": "2023-04-23T16:48:41.130934",
     "exception": false,
     "start_time": "2023-04-23T16:48:41.122950",
     "status": "completed"
    },
    "tags": []
   },
   "source": [
    "**This notebook is an exercise in the [Intro to Programming](https://www.kaggle.com/learn/intro-to-programming) course.  You can reference the tutorial at [this link](https://www.kaggle.com/alexisbcook/data-types).**\n",
    "\n",
    "---\n"
   ]
  },
  {
   "cell_type": "markdown",
   "id": "954ae0dd",
   "metadata": {
    "papermill": {
     "duration": 0.006214,
     "end_time": "2023-04-23T16:48:41.143868",
     "exception": false,
     "start_time": "2023-04-23T16:48:41.137654",
     "status": "completed"
    },
    "tags": []
   },
   "source": [
    "In the tutorial, you learned about four different data types: floats, integers, strings, and booleans.  In this exercise, you'll experiment with them.\n",
    "\n",
    "# Set up the notebook\n",
    "\n",
    "Run the next code cell without changes to set up the notebook."
   ]
  },
  {
   "cell_type": "code",
   "execution_count": 1,
   "id": "8aa0336c",
   "metadata": {
    "execution": {
     "iopub.execute_input": "2023-04-23T16:48:41.159090Z",
     "iopub.status.busy": "2023-04-23T16:48:41.158290Z",
     "iopub.status.idle": "2023-04-23T16:48:41.211954Z",
     "shell.execute_reply": "2023-04-23T16:48:41.210700Z"
    },
    "papermill": {
     "duration": 0.064262,
     "end_time": "2023-04-23T16:48:41.214531",
     "exception": false,
     "start_time": "2023-04-23T16:48:41.150269",
     "status": "completed"
    },
    "tags": []
   },
   "outputs": [
    {
     "name": "stdout",
     "output_type": "stream",
     "text": [
      "Setup complete.\n"
     ]
    }
   ],
   "source": [
    "# Set up the exercise\n",
    "from learntools.core import binder\n",
    "binder.bind(globals())\n",
    "from learntools.intro_to_programming.ex3 import *\n",
    "print('Setup complete.')"
   ]
  },
  {
   "cell_type": "markdown",
   "id": "53d8b75a",
   "metadata": {
    "papermill": {
     "duration": 0.006958,
     "end_time": "2023-04-23T16:48:41.229601",
     "exception": false,
     "start_time": "2023-04-23T16:48:41.222643",
     "status": "completed"
    },
    "tags": []
   },
   "source": [
    "# Question 1\n",
    "\n",
    "You have seen how to convert a float to an integer with the `int` function.  Try this out yourself by running the code cell below."
   ]
  },
  {
   "cell_type": "code",
   "execution_count": 2,
   "id": "690199b3",
   "metadata": {
    "execution": {
     "iopub.execute_input": "2023-04-23T16:48:41.245140Z",
     "iopub.status.busy": "2023-04-23T16:48:41.244694Z",
     "iopub.status.idle": "2023-04-23T16:48:41.251542Z",
     "shell.execute_reply": "2023-04-23T16:48:41.250154Z"
    },
    "papermill": {
     "duration": 0.01776,
     "end_time": "2023-04-23T16:48:41.254201",
     "exception": false,
     "start_time": "2023-04-23T16:48:41.236441",
     "status": "completed"
    },
    "tags": []
   },
   "outputs": [
    {
     "name": "stdout",
     "output_type": "stream",
     "text": [
      "1.0\n",
      "<class 'float'>\n",
      "1\n",
      "<class 'int'>\n"
     ]
    }
   ],
   "source": [
    "# Define a float\n",
    "y = 1.\n",
    "print(y)\n",
    "print(type(y))\n",
    "\n",
    "# Convert float to integer with the int function\n",
    "z = int(y)\n",
    "print(z)\n",
    "print(type(z))"
   ]
  },
  {
   "cell_type": "markdown",
   "id": "549fbac4",
   "metadata": {
    "papermill": {
     "duration": 0.006426,
     "end_time": "2023-04-23T16:48:41.267308",
     "exception": false,
     "start_time": "2023-04-23T16:48:41.260882",
     "status": "completed"
    },
    "tags": []
   },
   "source": [
    "In this case, the float you are using has no numbers after the decimal.  \n",
    "- But what happens when you try to convert a float with a fractional part to an integer?  \n",
    "- How does the outcome of the `int` function change for positive and negative numbers?\n",
    "\n",
    "Use the next code cell to investigate and answer these questions.  Feel free to add or remove any lines of code -- it is your workspace!"
   ]
  },
  {
   "cell_type": "code",
   "execution_count": 3,
   "id": "c2fa449e",
   "metadata": {
    "execution": {
     "iopub.execute_input": "2023-04-23T16:48:41.283880Z",
     "iopub.status.busy": "2023-04-23T16:48:41.283423Z",
     "iopub.status.idle": "2023-04-23T16:48:41.289875Z",
     "shell.execute_reply": "2023-04-23T16:48:41.288488Z"
    },
    "papermill": {
     "duration": 0.018535,
     "end_time": "2023-04-23T16:48:41.292968",
     "exception": false,
     "start_time": "2023-04-23T16:48:41.274433",
     "status": "completed"
    },
    "tags": []
   },
   "outputs": [
    {
     "name": "stdout",
     "output_type": "stream",
     "text": [
      "1\n",
      "1\n",
      "-3\n",
      "-2\n"
     ]
    }
   ],
   "source": [
    "# Uncomment and run this code to get started!\n",
    "print(int(1.2321))\n",
    "print(int(1.747))\n",
    "print(int(-3.94535))\n",
    "print(int(-2.19774))"
   ]
  },
  {
   "cell_type": "markdown",
   "id": "aa1594a5",
   "metadata": {
    "papermill": {
     "duration": 0.006619,
     "end_time": "2023-04-23T16:48:41.306405",
     "exception": false,
     "start_time": "2023-04-23T16:48:41.299786",
     "status": "completed"
    },
    "tags": []
   },
   "source": [
    "Once you have an answer, run the code cell below to see the solution.  Viewing the solution will give you credit for answering the problem."
   ]
  },
  {
   "cell_type": "code",
   "execution_count": 4,
   "id": "f991fce1",
   "metadata": {
    "execution": {
     "iopub.execute_input": "2023-04-23T16:48:41.322435Z",
     "iopub.status.busy": "2023-04-23T16:48:41.322025Z",
     "iopub.status.idle": "2023-04-23T16:48:41.334172Z",
     "shell.execute_reply": "2023-04-23T16:48:41.332214Z"
    },
    "papermill": {
     "duration": 0.023343,
     "end_time": "2023-04-23T16:48:41.336723",
     "exception": false,
     "start_time": "2023-04-23T16:48:41.313380",
     "status": "completed"
    },
    "tags": []
   },
   "outputs": [
    {
     "data": {
      "application/javascript": [
       "parent.postMessage({\"jupyterEvent\": \"custom.exercise_interaction\", \"data\": {\"outcomeType\": 1, \"valueTowardsCompletion\": 0.2, \"interactionType\": 1, \"questionType\": 4, \"questionId\": \"1_FloatToInt\", \"learnToolsVersion\": \"0.3.4\", \"failureMessage\": \"\", \"exceptionClass\": \"\", \"trace\": \"\"}}, \"*\")"
      ],
      "text/plain": [
       "<IPython.core.display.Javascript object>"
      ]
     },
     "metadata": {},
     "output_type": "display_data"
    },
    {
     "data": {
      "text/markdown": [
       "<span style=\"color:#33cc33\">Correct:</span> \n",
       "\n",
       "Negative floats are always rounded UP to the closest integer (for instance, both -1.1 and -1.9 are rounded up to -1). Positive floats are always rounded DOWN to the closest integer (for instance, 2.1 and 2.9 are rounded down to 2)."
      ],
      "text/plain": [
       "Correct: \n",
       "\n",
       "Negative floats are always rounded UP to the closest integer (for instance, both -1.1 and -1.9 are rounded up to -1). Positive floats are always rounded DOWN to the closest integer (for instance, 2.1 and 2.9 are rounded down to 2)."
      ]
     },
     "metadata": {},
     "output_type": "display_data"
    }
   ],
   "source": [
    "# Check your answer (Run this code cell to receive credit!)\n",
    "q1.check()"
   ]
  },
  {
   "cell_type": "markdown",
   "id": "3cb16376",
   "metadata": {
    "papermill": {
     "duration": 0.006563,
     "end_time": "2023-04-23T16:48:41.350355",
     "exception": false,
     "start_time": "2023-04-23T16:48:41.343792",
     "status": "completed"
    },
    "tags": []
   },
   "source": [
    "# Question 2\n",
    "\n",
    "In the tutorial, you learned about booleans (which can take a value of `True` or `False`), in addition to integers, floats, and strings.  For this question, your goal is to determine what happens when you multiply a boolean by any of these data types.  Specifically, \n",
    "- What happens when you multiply an integer or float by `True`?  What happens when you multiply them by `False`?  How does the answer change if the numbers are positive or negative?\n",
    "- What happens when you multiply a string by `True`?  By `False`?\n",
    "\n",
    "Use the next code cell for your investigation. "
   ]
  },
  {
   "cell_type": "code",
   "execution_count": 5,
   "id": "46dff991",
   "metadata": {
    "execution": {
     "iopub.execute_input": "2023-04-23T16:48:41.366010Z",
     "iopub.status.busy": "2023-04-23T16:48:41.365562Z",
     "iopub.status.idle": "2023-04-23T16:48:41.371916Z",
     "shell.execute_reply": "2023-04-23T16:48:41.370724Z"
    },
    "papermill": {
     "duration": 0.017518,
     "end_time": "2023-04-23T16:48:41.374707",
     "exception": false,
     "start_time": "2023-04-23T16:48:41.357189",
     "status": "completed"
    },
    "tags": []
   },
   "outputs": [
    {
     "name": "stdout",
     "output_type": "stream",
     "text": [
      "0\n",
      "-0.0\n",
      "<class 'str'>\n",
      "3\n"
     ]
    }
   ],
   "source": [
    "# Uncomment and run this code to get started!\n",
    "print(3 * False)\n",
    "print(-3.1 * False)\n",
    "print(type(\"abc\" * False))\n",
    "print(len(\"abc\" * True))"
   ]
  },
  {
   "cell_type": "markdown",
   "id": "fb4c03f2",
   "metadata": {
    "papermill": {
     "duration": 0.00663,
     "end_time": "2023-04-23T16:48:41.389867",
     "exception": false,
     "start_time": "2023-04-23T16:48:41.383237",
     "status": "completed"
    },
    "tags": []
   },
   "source": [
    "Once you have an answer, run the code cell below to see the solution.  Viewing the solution will give you credit for answering the problem."
   ]
  },
  {
   "cell_type": "code",
   "execution_count": 6,
   "id": "6b798536",
   "metadata": {
    "execution": {
     "iopub.execute_input": "2023-04-23T16:48:41.405655Z",
     "iopub.status.busy": "2023-04-23T16:48:41.405232Z",
     "iopub.status.idle": "2023-04-23T16:48:41.414933Z",
     "shell.execute_reply": "2023-04-23T16:48:41.413907Z"
    },
    "papermill": {
     "duration": 0.020482,
     "end_time": "2023-04-23T16:48:41.417252",
     "exception": false,
     "start_time": "2023-04-23T16:48:41.396770",
     "status": "completed"
    },
    "tags": []
   },
   "outputs": [
    {
     "data": {
      "application/javascript": [
       "parent.postMessage({\"jupyterEvent\": \"custom.exercise_interaction\", \"data\": {\"outcomeType\": 1, \"valueTowardsCompletion\": 0.2, \"interactionType\": 1, \"questionType\": 4, \"questionId\": \"2_MultiplyBooleans\", \"learnToolsVersion\": \"0.3.4\", \"failureMessage\": \"\", \"exceptionClass\": \"\", \"trace\": \"\"}}, \"*\")"
      ],
      "text/plain": [
       "<IPython.core.display.Javascript object>"
      ]
     },
     "metadata": {},
     "output_type": "display_data"
    },
    {
     "data": {
      "text/markdown": [
       "<span style=\"color:#33cc33\">Correct:</span> \n",
       "\n",
       "When you multiple an integer or float by a boolean with value `True`, it just returns that same integer or float (and is equivalent to multiplying by 1).  If you multiply an integer or float by a boolean with value `False`, it always returns 0.  This is true for both positive and negative numbers.  If you multiply a string by a boolean with value `True`, it just returns that same string.  And if you multiply a string by a boolean with value `False`, it returns an empty string (or a string with length zero)."
      ],
      "text/plain": [
       "Correct: \n",
       "\n",
       "When you multiple an integer or float by a boolean with value `True`, it just returns that same integer or float (and is equivalent to multiplying by 1).  If you multiply an integer or float by a boolean with value `False`, it always returns 0.  This is true for both positive and negative numbers.  If you multiply a string by a boolean with value `True`, it just returns that same string.  And if you multiply a string by a boolean with value `False`, it returns an empty string (or a string with length zero)."
      ]
     },
     "metadata": {},
     "output_type": "display_data"
    }
   ],
   "source": [
    "# Check your answer (Run this code cell to receive credit!)\n",
    "q2.check()"
   ]
  },
  {
   "cell_type": "markdown",
   "id": "c4f0a975",
   "metadata": {
    "papermill": {
     "duration": 0.006991,
     "end_time": "2023-04-23T16:48:41.431958",
     "exception": false,
     "start_time": "2023-04-23T16:48:41.424967",
     "status": "completed"
    },
    "tags": []
   },
   "source": [
    "# Question 3\n",
    "\n",
    "In this question, you will build off your work from the previous exercise to write a function that estimates the value of a house.\n",
    "\n",
    "Use the next code cell to create a function `get_expected_cost` that takes as input three variables:\n",
    "- `beds` - number of bedrooms (data type float)\n",
    "- `baths` - number of bathrooms (data type float)\n",
    "- `has_basement` - whether or not the house has a basement (data type boolean)\n",
    "\n",
    "It should return the expected cost of a house with those characteristics. Assume that:\n",
    "- the expected cost for a house with 0 bedrooms and 0 bathrooms, and no basement is 80000, \n",
    "- each bedroom adds 30000 to the expected cost,\n",
    "- each bathroom adds 10000 to the expected cost, and\n",
    "- a basement adds 40000 to the expected cost.\n",
    "\n",
    "For instance,\n",
    "- a house with 1 bedroom, 1 bathroom, and no basement has an expected cost of 80000 + 30000 + 10000 = 120000.  This value will be calculated with `get_expected_cost(1, 1, False)`.\n",
    "- a house with 2 bedrooms, 1 bathroom, and a basement has an expected cost of 80000 + 2*30000 + 10000 + 40000 = 190000.  This value will be calculated with `get_expected_cost(2, 1, True)`.\n",
    "\n",
    "Remember you can always get a hint by uncommenting `q3.hint()` in the code cell following the next!"
   ]
  },
  {
   "cell_type": "code",
   "execution_count": 7,
   "id": "03155846",
   "metadata": {
    "execution": {
     "iopub.execute_input": "2023-04-23T16:48:41.448652Z",
     "iopub.status.busy": "2023-04-23T16:48:41.448228Z",
     "iopub.status.idle": "2023-04-23T16:48:41.458595Z",
     "shell.execute_reply": "2023-04-23T16:48:41.457349Z"
    },
    "papermill": {
     "duration": 0.021711,
     "end_time": "2023-04-23T16:48:41.461015",
     "exception": false,
     "start_time": "2023-04-23T16:48:41.439304",
     "status": "completed"
    },
    "tags": []
   },
   "outputs": [
    {
     "data": {
      "application/javascript": [
       "parent.postMessage({\"jupyterEvent\": \"custom.exercise_interaction\", \"data\": {\"outcomeType\": 1, \"valueTowardsCompletion\": 0.2, \"interactionType\": 1, \"questionType\": 2, \"questionId\": \"3_EstimateHouseValueBool\", \"learnToolsVersion\": \"0.3.4\", \"failureMessage\": \"\", \"exceptionClass\": \"\", \"trace\": \"\"}}, \"*\")"
      ],
      "text/plain": [
       "<IPython.core.display.Javascript object>"
      ]
     },
     "metadata": {},
     "output_type": "display_data"
    },
    {
     "data": {
      "text/markdown": [
       "<span style=\"color:#33cc33\">Correct</span>"
      ],
      "text/plain": [
       "Correct"
      ]
     },
     "metadata": {},
     "output_type": "display_data"
    }
   ],
   "source": [
    "# TODO: Complete the function\n",
    "def get_expected_cost(beds, baths, has_basement):\n",
    "    value = 80000 + 30000 * beds + 10000 * baths + 40000 * has_basement\n",
    "    return value\n",
    "\n",
    "# Check your answer \n",
    "q3.check()"
   ]
  },
  {
   "cell_type": "code",
   "execution_count": 8,
   "id": "a1448edd",
   "metadata": {
    "execution": {
     "iopub.execute_input": "2023-04-23T16:48:41.479119Z",
     "iopub.status.busy": "2023-04-23T16:48:41.478025Z",
     "iopub.status.idle": "2023-04-23T16:48:41.491241Z",
     "shell.execute_reply": "2023-04-23T16:48:41.490288Z"
    },
    "papermill": {
     "duration": 0.024995,
     "end_time": "2023-04-23T16:48:41.493785",
     "exception": false,
     "start_time": "2023-04-23T16:48:41.468790",
     "status": "completed"
    },
    "tags": []
   },
   "outputs": [
    {
     "data": {
      "application/javascript": [
       "parent.postMessage({\"jupyterEvent\": \"custom.exercise_interaction\", \"data\": {\"interactionType\": 2, \"questionType\": 2, \"questionId\": \"3_EstimateHouseValueBool\", \"learnToolsVersion\": \"0.3.4\", \"valueTowardsCompletion\": 0.0, \"failureMessage\": \"\", \"exceptionClass\": \"\", \"trace\": \"\", \"outcomeType\": 4}}, \"*\")"
      ],
      "text/plain": [
       "<IPython.core.display.Javascript object>"
      ]
     },
     "metadata": {},
     "output_type": "display_data"
    },
    {
     "data": {
      "text/markdown": [
       "<span style=\"color:#3366cc\">Hint:</span> The variable `has_basement` is either `True` or `False`.  What happens when you multiply it by 40000 (the value of a basement)?  Refer to the previous question if you are unsure."
      ],
      "text/plain": [
       "Hint: The variable `has_basement` is either `True` or `False`.  What happens when you multiply it by 40000 (the value of a basement)?  Refer to the previous question if you are unsure."
      ]
     },
     "metadata": {},
     "output_type": "display_data"
    },
    {
     "data": {
      "application/javascript": [
       "parent.postMessage({\"jupyterEvent\": \"custom.exercise_interaction\", \"data\": {\"interactionType\": 3, \"questionType\": 2, \"questionId\": \"3_EstimateHouseValueBool\", \"learnToolsVersion\": \"0.3.4\", \"valueTowardsCompletion\": 0.0, \"failureMessage\": \"\", \"exceptionClass\": \"\", \"trace\": \"\", \"outcomeType\": 4}}, \"*\")"
      ],
      "text/plain": [
       "<IPython.core.display.Javascript object>"
      ]
     },
     "metadata": {},
     "output_type": "display_data"
    },
    {
     "data": {
      "text/markdown": [
       "<span style=\"color:#33cc99\">Solution:</span> \n",
       "```python\n",
       "def get_expected_cost(beds, baths, has_basement):\n",
       "    value = 80000 + 30000 * beds + 10000 * baths + 40000 * has_basement\n",
       "    return value\n",
       "\n",
       "```"
      ],
      "text/plain": [
       "Solution: \n",
       "```python\n",
       "def get_expected_cost(beds, baths, has_basement):\n",
       "    value = 80000 + 30000 * beds + 10000 * baths + 40000 * has_basement\n",
       "    return value\n",
       "\n",
       "```"
      ]
     },
     "metadata": {},
     "output_type": "display_data"
    }
   ],
   "source": [
    "# Uncomment to see a hint\n",
    "q3.hint()\n",
    "\n",
    "# Uncomment to view the solution\n",
    "q3.solution()"
   ]
  },
  {
   "cell_type": "markdown",
   "id": "3406f41c",
   "metadata": {
    "papermill": {
     "duration": 0.007961,
     "end_time": "2023-04-23T16:48:41.509760",
     "exception": false,
     "start_time": "2023-04-23T16:48:41.501799",
     "status": "completed"
    },
    "tags": []
   },
   "source": [
    "# Question 4\n",
    "\n",
    "We'll continue our study of boolean arithmetic.  For this question, your task is to provide a description of what happpens when you add booleans. \n",
    "\n",
    "Use the next code cell for your investigation.  Feel free to add or remove any lines of code - use it as your workspace!"
   ]
  },
  {
   "cell_type": "code",
   "execution_count": 9,
   "id": "4a59405a",
   "metadata": {
    "execution": {
     "iopub.execute_input": "2023-04-23T16:48:41.527774Z",
     "iopub.status.busy": "2023-04-23T16:48:41.527331Z",
     "iopub.status.idle": "2023-04-23T16:48:41.534757Z",
     "shell.execute_reply": "2023-04-23T16:48:41.533310Z"
    },
    "papermill": {
     "duration": 0.019516,
     "end_time": "2023-04-23T16:48:41.537432",
     "exception": false,
     "start_time": "2023-04-23T16:48:41.517916",
     "status": "completed"
    },
    "tags": []
   },
   "outputs": [
    {
     "name": "stdout",
     "output_type": "stream",
     "text": [
      "0\n",
      "1\n",
      "1\n",
      "2\n",
      "3\n"
     ]
    }
   ],
   "source": [
    "print(False + False)\n",
    "#0\n",
    "print(True + False)\n",
    "#1\n",
    "print(False + True)\n",
    "#1\n",
    "print(True + True)\n",
    "#2\n",
    "print(False + True + True + True)\n",
    "#3"
   ]
  },
  {
   "cell_type": "markdown",
   "id": "a02846d4",
   "metadata": {
    "papermill": {
     "duration": 0.007632,
     "end_time": "2023-04-23T16:48:41.553272",
     "exception": false,
     "start_time": "2023-04-23T16:48:41.545640",
     "status": "completed"
    },
    "tags": []
   },
   "source": [
    "Once you have an answer, run the code cell below to see the solution.  Viewing the solution will give you credit for answering the problem."
   ]
  },
  {
   "cell_type": "code",
   "execution_count": 10,
   "id": "a9651ce1",
   "metadata": {
    "execution": {
     "iopub.execute_input": "2023-04-23T16:48:41.571238Z",
     "iopub.status.busy": "2023-04-23T16:48:41.570520Z",
     "iopub.status.idle": "2023-04-23T16:48:41.579637Z",
     "shell.execute_reply": "2023-04-23T16:48:41.578655Z"
    },
    "papermill": {
     "duration": 0.020658,
     "end_time": "2023-04-23T16:48:41.581895",
     "exception": false,
     "start_time": "2023-04-23T16:48:41.561237",
     "status": "completed"
    },
    "tags": []
   },
   "outputs": [
    {
     "data": {
      "application/javascript": [
       "parent.postMessage({\"jupyterEvent\": \"custom.exercise_interaction\", \"data\": {\"outcomeType\": 1, \"valueTowardsCompletion\": 0.2, \"interactionType\": 1, \"questionType\": 4, \"questionId\": \"4_AddingBooleans\", \"learnToolsVersion\": \"0.3.4\", \"failureMessage\": \"\", \"exceptionClass\": \"\", \"trace\": \"\"}}, \"*\")"
      ],
      "text/plain": [
       "<IPython.core.display.Javascript object>"
      ]
     },
     "metadata": {},
     "output_type": "display_data"
    },
    {
     "data": {
      "text/markdown": [
       "<span style=\"color:#33cc33\">Correct:</span> \n",
       "\n",
       "When you add booleans, adding `False` is equivalent to adding 0, and adding `True` is equivalent to adding 1."
      ],
      "text/plain": [
       "Correct: \n",
       "\n",
       "When you add booleans, adding `False` is equivalent to adding 0, and adding `True` is equivalent to adding 1."
      ]
     },
     "metadata": {},
     "output_type": "display_data"
    }
   ],
   "source": [
    "# Check your answer (Run this code cell to receive credit!)\n",
    "q4.check()"
   ]
  },
  {
   "cell_type": "markdown",
   "id": "80e244a0",
   "metadata": {
    "papermill": {
     "duration": 0.008241,
     "end_time": "2023-04-23T16:48:41.598445",
     "exception": false,
     "start_time": "2023-04-23T16:48:41.590204",
     "status": "completed"
    },
    "tags": []
   },
   "source": [
    "# 🌶️ Question 5\n",
    "\n",
    "You own an online shop where you sell rings with custom engravings.  You offer both gold plated and solid gold rings.\n",
    "- Gold plated rings have a base cost of \\\\$50, and you charge \\\\$7 per engraved unit.  \n",
    "- Solid gold rings have a base cost of \\\\$100, and you charge \\\\$10 per engraved unit.\n",
    "- Spaces and punctuation are counted as engraved units.\n",
    "\n",
    "Write a function `cost_of_project()` that takes two arguments:\n",
    "- `engraving` - a Python string with the text of the engraving\n",
    "- `solid_gold` - a Boolean that indicates whether the ring is solid gold\n",
    "\n",
    "It should return the cost of the project.  This question should be fairly challenging, and you may need a hint."
   ]
  },
  {
   "cell_type": "code",
   "execution_count": 11,
   "id": "2e3c437f",
   "metadata": {
    "execution": {
     "iopub.execute_input": "2023-04-23T16:48:41.617271Z",
     "iopub.status.busy": "2023-04-23T16:48:41.616792Z",
     "iopub.status.idle": "2023-04-23T16:48:41.627687Z",
     "shell.execute_reply": "2023-04-23T16:48:41.626469Z"
    },
    "papermill": {
     "duration": 0.02342,
     "end_time": "2023-04-23T16:48:41.630387",
     "exception": false,
     "start_time": "2023-04-23T16:48:41.606967",
     "status": "completed"
    },
    "tags": []
   },
   "outputs": [
    {
     "data": {
      "application/javascript": [
       "parent.postMessage({\"jupyterEvent\": \"custom.exercise_interaction\", \"data\": {\"outcomeType\": 1, \"valueTowardsCompletion\": 0.2, \"interactionType\": 1, \"questionType\": 2, \"questionId\": \"5_CustomEngravings\", \"learnToolsVersion\": \"0.3.4\", \"failureMessage\": \"\", \"exceptionClass\": \"\", \"trace\": \"\"}}, \"*\")"
      ],
      "text/plain": [
       "<IPython.core.display.Javascript object>"
      ]
     },
     "metadata": {},
     "output_type": "display_data"
    },
    {
     "data": {
      "text/markdown": [
       "<span style=\"color:#33cc33\">Correct</span>"
      ],
      "text/plain": [
       "Correct"
      ]
     },
     "metadata": {},
     "output_type": "display_data"
    }
   ],
   "source": [
    "def cost_of_project(engraving, solid_gold):\n",
    "    cost = solid_gold * (100 + 10 * len(engraving)) + (not solid_gold) * (50 + 7 * len(engraving))\n",
    "    return cost\n",
    "\n",
    "# Check your answer\n",
    "q5.check()"
   ]
  },
  {
   "cell_type": "code",
   "execution_count": 12,
   "id": "eec15c5e",
   "metadata": {
    "execution": {
     "iopub.execute_input": "2023-04-23T16:48:41.650561Z",
     "iopub.status.busy": "2023-04-23T16:48:41.650142Z",
     "iopub.status.idle": "2023-04-23T16:48:41.664414Z",
     "shell.execute_reply": "2023-04-23T16:48:41.663466Z"
    },
    "papermill": {
     "duration": 0.027719,
     "end_time": "2023-04-23T16:48:41.667068",
     "exception": false,
     "start_time": "2023-04-23T16:48:41.639349",
     "status": "completed"
    },
    "tags": []
   },
   "outputs": [
    {
     "data": {
      "application/javascript": [
       "parent.postMessage({\"jupyterEvent\": \"custom.exercise_interaction\", \"data\": {\"interactionType\": 2, \"questionType\": 2, \"questionId\": \"5_CustomEngravings\", \"learnToolsVersion\": \"0.3.4\", \"valueTowardsCompletion\": 0.0, \"failureMessage\": \"\", \"exceptionClass\": \"\", \"trace\": \"\", \"outcomeType\": 4}}, \"*\")"
      ],
      "text/plain": [
       "<IPython.core.display.Javascript object>"
      ]
     },
     "metadata": {},
     "output_type": "display_data"
    },
    {
     "data": {
      "text/markdown": [
       "<span style=\"color:#3366cc\">Hint:</span> There are two options - either the project uses solid gold or does not.  With this in mind, you can structure your solution like this: `cost = solid_gold * ____ + (not solid_gold) * ____`.  You need to figure out how to fill in the blanks. Also, remember that:\n",
       "- If `solid_gold = True`, then `(not solid_gold) = False`, and if `solid_gold = False`, then `(not solid_gold) = True`.\n",
       "- Multiplying an integer by `True` is equivalent to multiplying it by 1, and multiplying an integer by `False` is equivalent to multiplying it by 0."
      ],
      "text/plain": [
       "Hint: There are two options - either the project uses solid gold or does not.  With this in mind, you can structure your solution like this: `cost = solid_gold * ____ + (not solid_gold) * ____`.  You need to figure out how to fill in the blanks. Also, remember that:\n",
       "- If `solid_gold = True`, then `(not solid_gold) = False`, and if `solid_gold = False`, then `(not solid_gold) = True`.\n",
       "- Multiplying an integer by `True` is equivalent to multiplying it by 1, and multiplying an integer by `False` is equivalent to multiplying it by 0."
      ]
     },
     "metadata": {},
     "output_type": "display_data"
    },
    {
     "data": {
      "application/javascript": [
       "parent.postMessage({\"jupyterEvent\": \"custom.exercise_interaction\", \"data\": {\"interactionType\": 3, \"questionType\": 2, \"questionId\": \"5_CustomEngravings\", \"learnToolsVersion\": \"0.3.4\", \"valueTowardsCompletion\": 0.0, \"failureMessage\": \"\", \"exceptionClass\": \"\", \"trace\": \"\", \"outcomeType\": 4}}, \"*\")"
      ],
      "text/plain": [
       "<IPython.core.display.Javascript object>"
      ]
     },
     "metadata": {},
     "output_type": "display_data"
    },
    {
     "data": {
      "text/markdown": [
       "<span style=\"color:#33cc99\">Solution:</span> \n",
       "```python\n",
       "def cost_of_project(engraving, solid_gold):\n",
       "    cost = solid_gold * (100 + 10 * len(engraving)) + (not solid_gold) * (50 + 7 * len(engraving))\n",
       "    return cost\n",
       "\n",
       "```"
      ],
      "text/plain": [
       "Solution: \n",
       "```python\n",
       "def cost_of_project(engraving, solid_gold):\n",
       "    cost = solid_gold * (100 + 10 * len(engraving)) + (not solid_gold) * (50 + 7 * len(engraving))\n",
       "    return cost\n",
       "\n",
       "```"
      ]
     },
     "metadata": {},
     "output_type": "display_data"
    }
   ],
   "source": [
    "# Uncomment to see a hint\n",
    "q5.hint()\n",
    "\n",
    "# Uncomment to view the solution\n",
    "q5.solution()"
   ]
  },
  {
   "cell_type": "markdown",
   "id": "1b79613e",
   "metadata": {
    "papermill": {
     "duration": 0.008769,
     "end_time": "2023-04-23T16:48:41.685208",
     "exception": false,
     "start_time": "2023-04-23T16:48:41.676439",
     "status": "completed"
    },
    "tags": []
   },
   "source": [
    "Run the next code cell to calculate the cost of engraving `Charlie+Denver` on a solid gold ring."
   ]
  },
  {
   "cell_type": "code",
   "execution_count": 13,
   "id": "e9ebc3e4",
   "metadata": {
    "execution": {
     "iopub.execute_input": "2023-04-23T16:48:41.706397Z",
     "iopub.status.busy": "2023-04-23T16:48:41.705966Z",
     "iopub.status.idle": "2023-04-23T16:48:41.711967Z",
     "shell.execute_reply": "2023-04-23T16:48:41.710667Z"
    },
    "papermill": {
     "duration": 0.019949,
     "end_time": "2023-04-23T16:48:41.714712",
     "exception": false,
     "start_time": "2023-04-23T16:48:41.694763",
     "status": "completed"
    },
    "tags": []
   },
   "outputs": [
    {
     "name": "stdout",
     "output_type": "stream",
     "text": [
      "240\n"
     ]
    }
   ],
   "source": [
    "project_one = cost_of_project(\"Charlie+Denver\", True)\n",
    "print(project_one)"
   ]
  },
  {
   "cell_type": "markdown",
   "id": "510c3c8b",
   "metadata": {
    "papermill": {
     "duration": 0.009194,
     "end_time": "2023-04-23T16:48:41.734096",
     "exception": false,
     "start_time": "2023-04-23T16:48:41.724902",
     "status": "completed"
    },
    "tags": []
   },
   "source": [
    "Use the next code cell to calculate the cost of engraving `08/10/2000` on a gold plated ring."
   ]
  },
  {
   "cell_type": "code",
   "execution_count": 14,
   "id": "e575ad42",
   "metadata": {
    "execution": {
     "iopub.execute_input": "2023-04-23T16:48:41.754462Z",
     "iopub.status.busy": "2023-04-23T16:48:41.754029Z",
     "iopub.status.idle": "2023-04-23T16:48:41.760620Z",
     "shell.execute_reply": "2023-04-23T16:48:41.759149Z"
    },
    "papermill": {
     "duration": 0.02019,
     "end_time": "2023-04-23T16:48:41.763408",
     "exception": false,
     "start_time": "2023-04-23T16:48:41.743218",
     "status": "completed"
    },
    "tags": []
   },
   "outputs": [
    {
     "name": "stdout",
     "output_type": "stream",
     "text": [
      "120\n"
     ]
    }
   ],
   "source": [
    "project_two = cost_of_project(\"08/10/2000\", False)\n",
    "print(project_two)"
   ]
  },
  {
   "cell_type": "markdown",
   "id": "bf512d0a",
   "metadata": {
    "papermill": {
     "duration": 0.009689,
     "end_time": "2023-04-23T16:48:41.782442",
     "exception": false,
     "start_time": "2023-04-23T16:48:41.772753",
     "status": "completed"
    },
    "tags": []
   },
   "source": [
    "# Keep going\n",
    "\n",
    "Continue to the next lesson to **[learn about conditions and conditional statements](https://www.kaggle.com/alexisbcook/conditions-and-conditional-statements)**."
   ]
  },
  {
   "cell_type": "markdown",
   "id": "598b8e2f",
   "metadata": {
    "papermill": {
     "duration": 0.009,
     "end_time": "2023-04-23T16:48:41.801166",
     "exception": false,
     "start_time": "2023-04-23T16:48:41.792166",
     "status": "completed"
    },
    "tags": []
   },
   "source": [
    "---\n",
    "\n",
    "\n",
    "\n",
    "\n",
    "*Have questions or comments? Visit the [course discussion forum](https://www.kaggle.com/learn/intro-to-programming/discussion) to chat with other learners.*"
   ]
  }
 ],
 "metadata": {
  "kernelspec": {
   "display_name": "Python 3",
   "language": "python",
   "name": "python3"
  },
  "language_info": {
   "codemirror_mode": {
    "name": "ipython",
    "version": 3
   },
   "file_extension": ".py",
   "mimetype": "text/x-python",
   "name": "python",
   "nbconvert_exporter": "python",
   "pygments_lexer": "ipython3",
   "version": "3.7.12"
  },
  "papermill": {
   "default_parameters": {},
   "duration": 12.399327,
   "end_time": "2023-04-23T16:48:42.533045",
   "environment_variables": {},
   "exception": null,
   "input_path": "__notebook__.ipynb",
   "output_path": "__notebook__.ipynb",
   "parameters": {},
   "start_time": "2023-04-23T16:48:30.133718",
   "version": "2.4.0"
  }
 },
 "nbformat": 4,
 "nbformat_minor": 5
}
